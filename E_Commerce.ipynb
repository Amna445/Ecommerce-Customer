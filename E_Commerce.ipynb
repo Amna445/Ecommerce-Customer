{
 "cells": [
  {
   "cell_type": "code",
   "execution_count": null,
   "id": "d21dc051-3977-4eb1-87eb-ab25328e743c",
   "metadata": {},
   "outputs": [],
   "source": []
  }
 ],
 "metadata": {
  "kernelspec": {
   "display_name": "Python 3 (ipykernel)",
   "language": "python",
   "name": "python3"
  },
  "language_info": {
   "name": ""
  }
 },
 "nbformat": 4,
 "nbformat_minor": 5
}
